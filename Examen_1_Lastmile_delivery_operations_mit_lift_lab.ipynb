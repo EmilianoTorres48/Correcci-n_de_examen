{
  "nbformat": 4,
  "nbformat_minor": 0,
  "metadata": {
    "colab": {
      "provenance": []
    },
    "kernelspec": {
      "name": "python3",
      "display_name": "Python 3"
    },
    "language_info": {
      "name": "python"
    }
  },
  "cells": [
    {
      "cell_type": "code",
      "execution_count": 1,
      "metadata": {
        "id": "0MkTbPQG1MFy"
      },
      "outputs": [],
      "source": [
        "#Importamos las librerias pandas, numpy y matplotlib respectivamente\n",
        "import pandas as pd\n",
        "import numpy as np\n",
        "import matplotlib.pyplot as plt"
      ]
    },
    {
      "cell_type": "code",
      "source": [
        "#Cargar archivo csv desde equipo\n",
        "from google.colab import files\n",
        "files.upload()"
      ],
      "metadata": {
        "id": "zqavsCQs1eGf"
      },
      "execution_count": null,
      "outputs": []
    },
    {
      "cell_type": "code",
      "source": [
        "#Carga desde un archivo .csv sin indice\n",
        "data3=pd.read_csv('lastmile_delivery_operations_mit_lift_lab.csv') "
      ],
      "metadata": {
        "id": "NFW4G21g1eDn"
      },
      "execution_count": 3,
      "outputs": []
    },
    {
      "cell_type": "code",
      "source": [
        "# Aplicamos filtro por columnas para separar datos cuantitativos y datos cualitativos\n",
        "filtro_cuantitativos_3=data3.iloc[ : , [5,6,12,21,22,28]]\n",
        "filtro_cualitativos_3=data3.iloc[ : , [0,1,2,3,4,7,8,9,10,11,13,14,15,16,17,18,19,20,23,24,25,26,27]]"
      ],
      "metadata": {
        "id": "RTVyK5R_1eAt"
      },
      "execution_count": 4,
      "outputs": []
    },
    {
      "cell_type": "code",
      "source": [
        "#Corroboramos valores nulos de los datos cuantitativos\n",
        "valores_nulos=filtro_cuantitativos_3.isnull().sum()\n",
        "valores_nulos"
      ],
      "metadata": {
        "id": "h_CdjVvk1d9y"
      },
      "execution_count": null,
      "outputs": []
    },
    {
      "cell_type": "code",
      "source": [
        "#Sustituir valores nulos con promedio o media\n",
        "filtro_cuantitativos_3[\"serving_customer\"]=filtro_cuantitativos_3[\"serving_customer\"].fillna(round(filtro_cuantitativos_3[\"serving_customer\"].mean(),1))\n",
        "#Sustituir valores nulos por un valor numérico en  concreto \n",
        "filtro_cuantitativos_3[\"maximum_number_of_vehicles_in_the_traffic_jam\"]= filtro_cuantitativos_3[\"maximum_number_of_vehicles_in_the_traffic_jam\"].fillna(0) "
      ],
      "metadata": {
        "id": "3elIFEGg1d66"
      },
      "execution_count": null,
      "outputs": []
    },
    {
      "cell_type": "code",
      "source": [
        "#Método aplicando Cuartiles. Encuentro cuartiles 0.25 y 0.75\n",
        "y=filtro_cuantitativos_3\n",
        "\n",
        "percentile25=y.quantile(0.25) #Q1\n",
        "percentile75=y.quantile(0.75) #Q3\n",
        "iqr=percentile75 - percentile25\n",
        "\n",
        "Limite_Superior_iqr= percentile75 + 1.5*iqr\n",
        "Limite_Inferior_iqr= percentile25 - 1.5*iqr\n",
        "print(\"Limite superior permitido\", Limite_Superior_iqr)\n",
        "print(\"Limite inferior permitido\", Limite_Inferior_iqr)"
      ],
      "metadata": {
        "id": "RWxHJ4IW1d4J"
      },
      "execution_count": null,
      "outputs": []
    },
    {
      "cell_type": "code",
      "source": [
        "#Encontramos Outliers del Dataframe\n",
        "outliers_iqr=filtro_cuantitativos_3[(y>Limite_Superior_iqr)|(y<Limite_Inferior_iqr)]\n",
        "outliers_iqr"
      ],
      "metadata": {
        "id": "KZdGeZvy1d1R"
      },
      "execution_count": null,
      "outputs": []
    },
    {
      "cell_type": "code",
      "source": [
        "#Obtenemos datos limpios del Dataframe\n",
        "data3_iqr=filtro_cuantitativos_3[(y<=Limite_Superior_iqr)&(y>=Limite_Inferior_iqr)]\n",
        "data3_iqr"
      ],
      "metadata": {
        "id": "EzDHv1LR1dyY"
      },
      "execution_count": null,
      "outputs": []
    },
    {
      "cell_type": "code",
      "source": [
        "#Corroboramos valores nulos del dataframe LIMPIO\n",
        "valores_nulos=data3_iqr.isnull().sum()\n",
        "valores_nulos"
      ],
      "metadata": {
        "id": "W2LMtYud1dvx"
      },
      "execution_count": null,
      "outputs": []
    },
    {
      "cell_type": "code",
      "source": [
        "#Reemplazamos valores atípicos (nulos) del dataframe con \"mean\"\n",
        "#Realizamos una copia del dataframe\n",
        "data5_iqr=data3_iqr.copy()\n",
        "data5_iqr=data5_iqr.fillna(round(data3_iqr.mean(),1))\n",
        "data5_iqr"
      ],
      "metadata": {
        "id": "zMJqNNRO1dsJ"
      },
      "execution_count": null,
      "outputs": []
    },
    {
      "cell_type": "code",
      "source": [
        "#Corroboramos valores nulos cualitativos\n",
        "valores_nulos=filtro_cualitativos_3.isnull().sum()\n",
        "valores_nulos"
      ],
      "metadata": {
        "id": "NRvzsWvc1dp2"
      },
      "execution_count": null,
      "outputs": []
    },
    {
      "cell_type": "code",
      "source": [
        "#Reemplazamos valores nulos restantez del dataframe con \"bfill\"\n",
        "filtro_cualitativos_3=filtro_cualitativos_3.fillna(method=\"bfill\") \n",
        "filtro_cualitativos_3"
      ],
      "metadata": {
        "id": "ZM3btIBE1dnh"
      },
      "execution_count": null,
      "outputs": []
    },
    {
      "cell_type": "code",
      "source": [
        "#Corroboramos valores nulos cualitativos\n",
        "valores_nulos=filtro_cualitativos_3.isnull().sum()\n",
        "valores_nulos"
      ],
      "metadata": {
        "id": "qZiTAUE91dky"
      },
      "execution_count": null,
      "outputs": []
    },
    {
      "cell_type": "code",
      "source": [
        "# Unimos los datos cuantitativos y los datos cualitativos\n",
        "Datos_limpios_lastmile_delivery_operations_mit_lift_lab = pd.concat([filtro_cualitativos_3, data5_iqr], axis=1)\n",
        "Datos_limpios_lastmile_delivery_operations_mit_lift_lab"
      ],
      "metadata": {
        "id": "o_lkzZzC1dh5"
      },
      "execution_count": null,
      "outputs": []
    },
    {
      "cell_type": "code",
      "source": [
        "#Corroboramos valores nulos cualitativos\n",
        "valores_nulos=filtro_cualitativos_3.isnull().sum()\n",
        "valores_nulos"
      ],
      "metadata": {
        "id": "eVm5uDoP2FZi"
      },
      "execution_count": null,
      "outputs": []
    },
    {
      "cell_type": "code",
      "source": [
        "# Unimos los datos cuantitativos y los datos cualitativos\n",
        "Datoslimpios_lastmile_delivery_operations_mit_lift_lab = pd.concat([filtro_cualitativos_3, data5_iqr], axis=1)\n",
        "Datoslimpios_lastmile_delivery_operations_mit_lift_lab"
      ],
      "metadata": {
        "id": "dz3hO5WL2FV9"
      },
      "execution_count": null,
      "outputs": []
    },
    {
      "cell_type": "code",
      "source": [
        "#Corroboramos valores nulos del dataframe LIMPIO\n",
        "valores_nulos=Datoslimpios_lastmile_delivery_operations_mit_lift_lab.isnull().sum()\n",
        "valores_nulos"
      ],
      "metadata": {
        "id": "4stkmltx2FS5"
      },
      "execution_count": null,
      "outputs": []
    },
    {
      "cell_type": "code",
      "source": [
        "#Sustituir valores nulos por un string en  concreto \n",
        "Datoslimpios_lastmile_delivery_operations_mit_lift_lab[\"describe_the_accident\"] =Datos_limpios_lastmile_delivery_operations_mit_lift_lab[\"describe_the_accident\"].fillna(\"NA\") "
      ],
      "metadata": {
        "id": "vQuVaNwr6o0R"
      },
      "execution_count": 29,
      "outputs": []
    },
    {
      "cell_type": "code",
      "source": [
        "#Corroboramos valores nulos del dataframe LIMPIO\n",
        "valores_nulos=Datoslimpios_lastmile_delivery_operations_mit_lift_lab.isnull().sum()\n",
        "valores_nulos"
      ],
      "metadata": {
        "id": "C7qfPr-W6qBI"
      },
      "execution_count": null,
      "outputs": []
    },
    {
      "cell_type": "code",
      "source": [
        "#Convertir DataFrame a CSV\n",
        "Datoslimpios_lastmile_delivery_operations_mit_lift_lab.to_csv(\"Datoslimpios_lastmile_delivery_operations_mit_lift_lab.csv\")\n",
        "#Descargar archivo filtrado en csv\n",
        "from google.colab import files \n",
        "files.download(\"Datoslimpios_lastmile_delivery_operations_mit_lift_lab.csv\")"
      ],
      "metadata": {
        "colab": {
          "base_uri": "https://localhost:8080/",
          "height": 17
        },
        "id": "C-r0Z4Kn2OOx",
        "outputId": "af9685e7-4700-497d-87f7-00b8bb47cc8d"
      },
      "execution_count": 31,
      "outputs": [
        {
          "output_type": "display_data",
          "data": {
            "text/plain": [
              "<IPython.core.display.Javascript object>"
            ],
            "application/javascript": [
              "\n",
              "    async function download(id, filename, size) {\n",
              "      if (!google.colab.kernel.accessAllowed) {\n",
              "        return;\n",
              "      }\n",
              "      const div = document.createElement('div');\n",
              "      const label = document.createElement('label');\n",
              "      label.textContent = `Downloading \"${filename}\": `;\n",
              "      div.appendChild(label);\n",
              "      const progress = document.createElement('progress');\n",
              "      progress.max = size;\n",
              "      div.appendChild(progress);\n",
              "      document.body.appendChild(div);\n",
              "\n",
              "      const buffers = [];\n",
              "      let downloaded = 0;\n",
              "\n",
              "      const channel = await google.colab.kernel.comms.open(id);\n",
              "      // Send a message to notify the kernel that we're ready.\n",
              "      channel.send({})\n",
              "\n",
              "      for await (const message of channel.messages) {\n",
              "        // Send a message to notify the kernel that we're ready.\n",
              "        channel.send({})\n",
              "        if (message.buffers) {\n",
              "          for (const buffer of message.buffers) {\n",
              "            buffers.push(buffer);\n",
              "            downloaded += buffer.byteLength;\n",
              "            progress.value = downloaded;\n",
              "          }\n",
              "        }\n",
              "      }\n",
              "      const blob = new Blob(buffers, {type: 'application/binary'});\n",
              "      const a = document.createElement('a');\n",
              "      a.href = window.URL.createObjectURL(blob);\n",
              "      a.download = filename;\n",
              "      div.appendChild(a);\n",
              "      a.click();\n",
              "      div.remove();\n",
              "    }\n",
              "  "
            ]
          },
          "metadata": {}
        },
        {
          "output_type": "display_data",
          "data": {
            "text/plain": [
              "<IPython.core.display.Javascript object>"
            ],
            "application/javascript": [
              "download(\"download_10d3bd28-edd1-4bee-9b8d-8d341752d588\", \"Datoslimpios_lastmile_delivery_operations_mit_lift_lab.csv\", 87667)"
            ]
          },
          "metadata": {}
        }
      ]
    }
  ]
}