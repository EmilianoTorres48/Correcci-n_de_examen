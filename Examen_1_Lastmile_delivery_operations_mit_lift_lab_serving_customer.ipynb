{
  "nbformat": 4,
  "nbformat_minor": 0,
  "metadata": {
    "colab": {
      "provenance": []
    },
    "kernelspec": {
      "name": "python3",
      "display_name": "Python 3"
    },
    "language_info": {
      "name": "python"
    }
  },
  "cells": [
    {
      "cell_type": "code",
      "execution_count": 1,
      "metadata": {
        "id": "Ci6b7nqp2ZB3"
      },
      "outputs": [],
      "source": [
        "#Importamos las librerias pandas, numpy y matplotlib respectivamente\n",
        "import pandas as pd\n",
        "import numpy as np\n",
        "import matplotlib.pyplot as plt"
      ]
    },
    {
      "cell_type": "code",
      "source": [
        "#Cargar archivo csv desde equipo\n",
        "from google.colab import files\n",
        "files.upload()"
      ],
      "metadata": {
        "id": "L4C2a_Qr2h88"
      },
      "execution_count": null,
      "outputs": []
    },
    {
      "cell_type": "code",
      "source": [
        "#Carga desde un archivo .csv sin indice\n",
        "data4=pd.read_csv('lastmile_delivery_operations_mit_lift_lab_serving_customer.csv') "
      ],
      "metadata": {
        "id": "o7sPvH562h5m"
      },
      "execution_count": 3,
      "outputs": []
    },
    {
      "cell_type": "code",
      "source": [
        "# Aplicamos filtro por columnas para separar datos cuantitativos y datos cualitativos\n",
        "filtro_cuantitativos_4=data4.iloc[ : , [4,9,11,12,14,15,16,19,20,24]]\n",
        "filtro_cualitativos_4=data4.iloc[ : , [0,1,2,3,5,6,7,8,10,13,17,18,21,22,23,25,26]]"
      ],
      "metadata": {
        "id": "ITEH5qap2h2p"
      },
      "execution_count": 4,
      "outputs": []
    },
    {
      "cell_type": "code",
      "source": [
        "#Corroboramos valores nulos de los datos cuantitativos\n",
        "valores_nulos=filtro_cuantitativos_4.isnull().sum()\n",
        "valores_nulos"
      ],
      "metadata": {
        "id": "P2-oxG3w2hz2"
      },
      "execution_count": null,
      "outputs": []
    },
    {
      "cell_type": "code",
      "source": [
        "#Corroboramos valores nulos cualitativos\n",
        "valores_nulos=filtro_cualitativos_4.isnull().sum()\n",
        "valores_nulos"
      ],
      "metadata": {
        "id": "CqOl3oFJ2hw5"
      },
      "execution_count": null,
      "outputs": []
    },
    {
      "cell_type": "code",
      "source": [
        "#Sustituimos valores nulos por un string en concreto \n",
        "filtro_cualitativos_4[\"picture_cargo_being_delivered\"]=filtro_cualitativos_4[\"picture_cargo_being_delivered\"].fillna(\"Sin foto\")\n",
        "filtro_cualitativos_4[\"picture_cargo_being_delivered_captions\"]=filtro_cualitativos_4[\"picture_cargo_being_delivered_captions\"].fillna(\"Sin foto\")\n",
        "filtro_cualitativos_4[\"picture_cargo_being_delivered_urls\"]=filtro_cualitativos_4[\"picture_cargo_being_delivered_urls\"].fillna(\"Sin foto\")"
      ],
      "metadata": {
        "id": "WYotZ4ga2huP"
      },
      "execution_count": null,
      "outputs": []
    },
    {
      "cell_type": "code",
      "source": [
        "#Corroboramos valores nulos cualitativos\n",
        "valores_nulos=filtro_cualitativos_4.isnull().sum()\n",
        "valores_nulos"
      ],
      "metadata": {
        "id": "W_SQdWSS2hsB"
      },
      "execution_count": null,
      "outputs": []
    },
    {
      "cell_type": "code",
      "source": [
        "#Método aplicando Cuartiles. Encuentro cuartiles 0.25 y 0.75\n",
        "y=filtro_cuantitativos_4\n",
        "\n",
        "percentile25=y.quantile(0.25) #Q1\n",
        "percentile75=y.quantile(0.75) #Q3\n",
        "iqr= percentile75 - percentile25\n",
        "\n",
        "Limite_Superior_iqr= percentile75 + 1.5*iqr\n",
        "Limite_Inferior_iqr= percentile25 - 1.5*iqr\n",
        "print(\"Limite superior permitido\", Limite_Superior_iqr)\n",
        "print(\"Limite inferior permitido\", Limite_Inferior_iqr)"
      ],
      "metadata": {
        "id": "P0WgW45b2hqR"
      },
      "execution_count": null,
      "outputs": []
    },
    {
      "cell_type": "code",
      "source": [
        "#Encontramos Outliers del Dataframe\n",
        "outliers_iqr=filtro_cuantitativos_4[(y>Limite_Superior_iqr)|(y<Limite_Inferior_iqr)]\n",
        "outliers_iqr"
      ],
      "metadata": {
        "id": "C-BbDwMr2hn4"
      },
      "execution_count": null,
      "outputs": []
    },
    {
      "cell_type": "code",
      "source": [
        "#Obtenemos datos limpios del Dataframe\n",
        "data3_iqr=filtro_cuantitativos_4[(y<=Limite_Superior_iqr)&(y>=Limite_Inferior_iqr)]\n",
        "data3_iqr"
      ],
      "metadata": {
        "id": "obBuC5Hn2hlI"
      },
      "execution_count": null,
      "outputs": []
    },
    {
      "cell_type": "code",
      "source": [
        "#Corroboramos valores nulos del dataframe LIMPIO\n",
        "valores_nulos=data3_iqr.isnull().sum()\n",
        "valores_nulos"
      ],
      "metadata": {
        "id": "x9PyXN2i2hjO"
      },
      "execution_count": null,
      "outputs": []
    },
    {
      "cell_type": "code",
      "source": [
        "#Reemplazamos valores atípicos (nulos) del dataframe con \"mean\"\n",
        "#Realizamos una copia del dataframe\n",
        "data5_iqr=data3_iqr.copy()\n",
        "data5_iqr=data5_iqr.fillna(round(data3_iqr.mean(),1))\n",
        "data5_iqr"
      ],
      "metadata": {
        "id": "x14NUcXl2hhV"
      },
      "execution_count": null,
      "outputs": []
    },
    {
      "cell_type": "code",
      "source": [
        "#Unimos los datos cuantitativos y los datos cualitativos\n",
        "Datoslimpios_lastmile_delivery_operations_mit_lift_lab_serving_customer = pd.concat([filtro_cualitativos_4, data5_iqr], axis=1)\n",
        "Datoslimpios_lastmile_delivery_operations_mit_lift_lab_serving_customer"
      ],
      "metadata": {
        "id": "qJCGTEJg2he6"
      },
      "execution_count": null,
      "outputs": []
    },
    {
      "cell_type": "code",
      "source": [
        "#Corroboramos valores nulos del dataframe LIMPIO\n",
        "valores_nulos=Datoslimpios_lastmile_delivery_operations_mit_lift_lab_serving_customer.isnull().sum()\n",
        "valores_nulos"
      ],
      "metadata": {
        "id": "DXQGtlW12hcG"
      },
      "execution_count": null,
      "outputs": []
    },
    {
      "cell_type": "code",
      "source": [
        "#Convertir DataFrame a CSV\n",
        "Datoslimpios_lastmile_delivery_operations_mit_lift_lab_serving_customer.to_csv(\"Datoslimpios_lastmile_delivery_operations_mit_lift_lab_serving_customer.csv\")\n",
        "#Descargar archivo filtrado en csv\n",
        "from google.colab import files \n",
        "files.download(\"Datoslimpios_lastmile_delivery_operations_mit_lift_lab_serving_customer.csv\")"
      ],
      "metadata": {
        "id": "Qa3Mu7T72hYP"
      },
      "execution_count": null,
      "outputs": []
    }
  ]
}