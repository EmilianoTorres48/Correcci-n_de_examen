{
  "nbformat": 4,
  "nbformat_minor": 0,
  "metadata": {
    "colab": {
      "provenance": []
    },
    "kernelspec": {
      "name": "python3",
      "display_name": "Python 3"
    },
    "language_info": {
      "name": "python"
    }
  },
  "cells": [
    {
      "cell_type": "code",
      "execution_count": 1,
      "metadata": {
        "id": "l0mbEFsqz1Ze"
      },
      "outputs": [],
      "source": [
        "#Importamos las librerias pandas, numpy y matplotlib respectivamente\n",
        "import pandas as pd\n",
        "import numpy as np\n",
        "import matplotlib.pyplot as plt"
      ]
    },
    {
      "cell_type": "code",
      "source": [
        "#Cargar archivo csv desde equipo\n",
        "from google.colab import files\n",
        "files.upload()"
      ],
      "metadata": {
        "id": "bnTlnqs80HVu"
      },
      "execution_count": null,
      "outputs": []
    },
    {
      "cell_type": "code",
      "source": [
        "#Carga desde un archivo .csv sin indice\n",
        "data2=pd.read_excel('microretailer_mit_lift_lab.xlsx') "
      ],
      "metadata": {
        "id": "d3NxGWuJ0HSl"
      },
      "execution_count": 3,
      "outputs": []
    },
    {
      "cell_type": "code",
      "source": [
        "# Aplicamos filtro por columnas para separar datos cuantitativos y datos cualitativos 50,52 61,62\n",
        "filtro_cuantitativos_2=data2.iloc[ : , [5,6,13,14,16,21,22,29,31,33,42,58,59,60,90]]\n",
        "filtro_cualitativos_2=data2.iloc[ : , [0,1,2,3,4,7,8,9,10,11,12,15,17,18,19,20,23,24,25,26,27,28,30,32,34,35,36,37,38,39,40,41,43,44,45,46,47,48,49,51,53,54,55,56,57,63,64,65,66,67,68,69,70,71,72,73,74,75,76,77,78,79,80,81,88,83,84,85,86,87,88,89,91,92,93,94,95,96,97,98,99,100,101,102,103,104]]"
      ],
      "metadata": {
        "id": "3GYfOqlW0HPt"
      },
      "execution_count": 4,
      "outputs": []
    },
    {
      "cell_type": "code",
      "source": [
        "#Corroboramos valores nulos de los datos cuantitativos\n",
        "valores_nulos=filtro_cuantitativos_2.isnull().sum()\n",
        "valores_nulos"
      ],
      "metadata": {
        "id": "AS8GL7kK0HMp"
      },
      "execution_count": null,
      "outputs": []
    },
    {
      "cell_type": "code",
      "source": [
        "#Reemplazamos valores nulos del dataframe con \"mean\"\n",
        "filtro_cuantitativos_2=filtro_cuantitativos_2.fillna(round(filtro_cuantitativos_2.mean(),1))"
      ],
      "metadata": {
        "id": "KVre1HYH0HJd"
      },
      "execution_count": 6,
      "outputs": []
    },
    {
      "cell_type": "code",
      "source": [
        "#Corroboramos valores nulos de los datos cuantitativos\n",
        "valores_nulos=filtro_cuantitativos_2.isnull().sum()\n",
        "valores_nulos"
      ],
      "metadata": {
        "id": "1QWyEX770HGk"
      },
      "execution_count": null,
      "outputs": []
    },
    {
      "cell_type": "code",
      "source": [
        "#Corroboramos valores nulos cualitativos\n",
        "valores_nulos=filtro_cualitativos_2.isnull().sum()\n",
        "valores_nulos"
      ],
      "metadata": {
        "id": "Pw2oI7Ee0HDx"
      },
      "execution_count": null,
      "outputs": []
    },
    {
      "cell_type": "code",
      "source": [
        "#Reemplazamos valores nulos restantez del dataframe con \"bfill\"\n",
        "filtro_cualitativos_2=filtro_cualitativos_2.fillna(method=\"bfill\") \n",
        "filtro_cualitativos_2"
      ],
      "metadata": {
        "id": "tfCfZf-R0HA0"
      },
      "execution_count": null,
      "outputs": []
    },
    {
      "cell_type": "code",
      "source": [
        "#Corroboramos valores nulos cualitativos\n",
        "valores_nulos=filtro_cualitativos_2.isnull().sum()\n",
        "valores_nulos"
      ],
      "metadata": {
        "id": "0MA0Uo9O0G9u"
      },
      "execution_count": null,
      "outputs": []
    },
    {
      "cell_type": "code",
      "source": [
        "#Método aplicando Cuartiles. Encuentro cuartiles 0.25 y 0.75\n",
        "y=filtro_cuantitativos_2\n",
        "\n",
        "percentile25=y.quantile(0.25) #Q1\n",
        "percentile75=y.quantile(0.75) #Q3\n",
        "iqr= percentile75 - percentile25\n",
        "\n",
        "Limite_Superior_iqr= percentile75 + 1.5*iqr\n",
        "Limite_Inferior_iqr= percentile25 - 1.5*iqr\n",
        "print(\"Limite superior permitido\", Limite_Superior_iqr)\n",
        "print(\"Limite inferior permitido\", Limite_Inferior_iqr)"
      ],
      "metadata": {
        "id": "jGSi68Nr0G4P"
      },
      "execution_count": null,
      "outputs": []
    },
    {
      "cell_type": "code",
      "source": [
        "#Encontramos Outliers del Dataframe\n",
        "outliers_iqr=filtro_cuantitativos_2[(y>Limite_Superior_iqr)|(y<Limite_Inferior_iqr)]\n",
        "outliers_iqr"
      ],
      "metadata": {
        "id": "1QV9mdLf0G1G"
      },
      "execution_count": null,
      "outputs": []
    },
    {
      "cell_type": "code",
      "source": [
        "#Obtenemos datos limpios del Dataframe\n",
        "data3_iqr=filtro_cuantitativos_2[(y<=Limite_Superior_iqr)&(y>=Limite_Inferior_iqr)]\n",
        "data3_iqr"
      ],
      "metadata": {
        "id": "6PdHblN90GyO"
      },
      "execution_count": null,
      "outputs": []
    },
    {
      "cell_type": "code",
      "source": [
        "#Corroboramos valores nulos del dataframe LIMPIO\n",
        "valores_nulos=data3_iqr.isnull().sum()\n",
        "valores_nulos"
      ],
      "metadata": {
        "id": "PMU6ESAG0Gu3"
      },
      "execution_count": null,
      "outputs": []
    },
    {
      "cell_type": "code",
      "source": [
        "#Reemplazamos valores atípicos (nulos) del dataframe con \"mean\"\n",
        "#Realizamos una copia del dataframe\n",
        "data5_iqr=data3_iqr.copy()\n",
        "data5_iqr=data5_iqr.fillna(round(data3_iqr.mean(),1))\n",
        "data5_iqr"
      ],
      "metadata": {
        "id": "Mf4Sto9a04W3"
      },
      "execution_count": null,
      "outputs": []
    },
    {
      "cell_type": "code",
      "source": [
        "# Unimos los datos cuantitativos y los datos cualitativos\n",
        "Datoslimpios_microretailer_mit_lift_lab = pd.concat([filtro_cualitativos_2, data5_iqr], axis=1)\n",
        "Datoslimpios_microretailer_mit_lift_lab"
      ],
      "metadata": {
        "id": "_-DrHmLt04Tq"
      },
      "execution_count": null,
      "outputs": []
    },
    {
      "cell_type": "code",
      "source": [
        "#Convertir DataFrame a CSV\n",
        "Datoslimpios_microretailer_mit_lift_lab.to_csv(\"Datoslimpios_microretailer_mit_lift_lab.csv\")\n",
        "#Descargar archivo filtrado en csv\n",
        "from google.colab import files \n",
        "files.download(\"Datoslimpios_microretailer_mit_lift_lab.csv\")"
      ],
      "metadata": {
        "colab": {
          "base_uri": "https://localhost:8080/",
          "height": 17
        },
        "id": "aJY1Z0LS04Qi",
        "outputId": "76f62d1d-4523-46ce-a5e2-5de80ed21766"
      },
      "execution_count": 20,
      "outputs": [
        {
          "output_type": "display_data",
          "data": {
            "text/plain": [
              "<IPython.core.display.Javascript object>"
            ],
            "application/javascript": [
              "\n",
              "    async function download(id, filename, size) {\n",
              "      if (!google.colab.kernel.accessAllowed) {\n",
              "        return;\n",
              "      }\n",
              "      const div = document.createElement('div');\n",
              "      const label = document.createElement('label');\n",
              "      label.textContent = `Downloading \"${filename}\": `;\n",
              "      div.appendChild(label);\n",
              "      const progress = document.createElement('progress');\n",
              "      progress.max = size;\n",
              "      div.appendChild(progress);\n",
              "      document.body.appendChild(div);\n",
              "\n",
              "      const buffers = [];\n",
              "      let downloaded = 0;\n",
              "\n",
              "      const channel = await google.colab.kernel.comms.open(id);\n",
              "      // Send a message to notify the kernel that we're ready.\n",
              "      channel.send({})\n",
              "\n",
              "      for await (const message of channel.messages) {\n",
              "        // Send a message to notify the kernel that we're ready.\n",
              "        channel.send({})\n",
              "        if (message.buffers) {\n",
              "          for (const buffer of message.buffers) {\n",
              "            buffers.push(buffer);\n",
              "            downloaded += buffer.byteLength;\n",
              "            progress.value = downloaded;\n",
              "          }\n",
              "        }\n",
              "      }\n",
              "      const blob = new Blob(buffers, {type: 'application/binary'});\n",
              "      const a = document.createElement('a');\n",
              "      a.href = window.URL.createObjectURL(blob);\n",
              "      a.download = filename;\n",
              "      div.appendChild(a);\n",
              "      a.click();\n",
              "      div.remove();\n",
              "    }\n",
              "  "
            ]
          },
          "metadata": {}
        },
        {
          "output_type": "display_data",
          "data": {
            "text/plain": [
              "<IPython.core.display.Javascript object>"
            ],
            "application/javascript": [
              "download(\"download_c31a3148-9e4d-470c-91b1-90395bd3e25a\", \"Datoslimpios_microretailer_mit_lift_lab.csv\", 265259)"
            ]
          },
          "metadata": {}
        }
      ]
    }
  ]
}